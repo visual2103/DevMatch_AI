{
 "cells": [
  {
   "cell_type": "code",
   "execution_count": 1,
   "id": "98e5af8f-9b3f-431f-9974-0fa9a256643d",
   "metadata": {},
   "outputs": [],
   "source": [
    "import spacy\n",
    "import glob\n",
    "import os\n",
    "import numpy as np\n",
    "from docx import Document"
   ]
  },
  {
   "cell_type": "code",
   "execution_count": 2,
   "id": "d34a1a47-d143-4027-8c3b-93cce359dcf2",
   "metadata": {
    "collapsed": true,
    "jupyter": {
     "outputs_hidden": true
    }
   },
   "outputs": [
    {
     "name": "stdout",
     "output_type": "stream",
     "text": [
      "Collecting en-core-web-lg==3.8.0\n",
      "  Downloading https://github.com/explosion/spacy-models/releases/download/en_core_web_lg-3.8.0/en_core_web_lg-3.8.0-py3-none-any.whl (400.7 MB)\n",
      "     ---------------------------------------- 0.0/400.7 MB ? eta -:--:--\n",
      "     ---------------------------------------- 0.8/400.7 MB 6.7 MB/s eta 0:01:00\n",
      "     ---------------------------------------- 2.4/400.7 MB 7.1 MB/s eta 0:00:57\n",
      "     ---------------------------------------- 4.2/400.7 MB 7.9 MB/s eta 0:00:51\n",
      "      --------------------------------------- 6.0/400.7 MB 7.8 MB/s eta 0:00:51\n",
      "      --------------------------------------- 7.6/400.7 MB 8.0 MB/s eta 0:00:50\n",
      "      --------------------------------------- 9.4/400.7 MB 8.2 MB/s eta 0:00:48\n",
      "     - ------------------------------------- 11.8/400.7 MB 8.6 MB/s eta 0:00:46\n",
      "     - ------------------------------------- 13.6/400.7 MB 8.7 MB/s eta 0:00:45\n",
      "     - ------------------------------------- 15.5/400.7 MB 8.7 MB/s eta 0:00:45\n",
      "     - ------------------------------------- 17.0/400.7 MB 8.7 MB/s eta 0:00:44\n",
      "     - ------------------------------------- 19.1/400.7 MB 8.8 MB/s eta 0:00:44\n",
      "     -- ------------------------------------ 21.2/400.7 MB 8.8 MB/s eta 0:00:43\n",
      "     -- ------------------------------------ 23.1/400.7 MB 8.8 MB/s eta 0:00:43\n",
      "     -- ------------------------------------ 24.9/400.7 MB 8.9 MB/s eta 0:00:43\n",
      "     -- ------------------------------------ 26.7/400.7 MB 8.9 MB/s eta 0:00:43\n",
      "     -- ------------------------------------ 28.8/400.7 MB 9.0 MB/s eta 0:00:42\n",
      "     --- ----------------------------------- 30.9/400.7 MB 9.0 MB/s eta 0:00:42\n",
      "     --- ----------------------------------- 33.0/400.7 MB 9.1 MB/s eta 0:00:41\n",
      "     --- ----------------------------------- 35.4/400.7 MB 9.2 MB/s eta 0:00:40\n",
      "     --- ----------------------------------- 37.2/400.7 MB 9.1 MB/s eta 0:00:40\n",
      "     --- ----------------------------------- 39.6/400.7 MB 9.3 MB/s eta 0:00:40\n",
      "     ---- ---------------------------------- 42.2/400.7 MB 9.4 MB/s eta 0:00:39\n",
      "     ---- ---------------------------------- 44.3/400.7 MB 9.4 MB/s eta 0:00:38\n",
      "     ---- ---------------------------------- 46.4/400.7 MB 9.4 MB/s eta 0:00:38\n",
      "     ---- ---------------------------------- 48.5/400.7 MB 9.5 MB/s eta 0:00:38\n",
      "     ---- ---------------------------------- 50.9/400.7 MB 9.5 MB/s eta 0:00:37\n",
      "     ----- --------------------------------- 53.2/400.7 MB 9.6 MB/s eta 0:00:37\n",
      "     ----- --------------------------------- 55.3/400.7 MB 9.6 MB/s eta 0:00:36\n",
      "     ----- --------------------------------- 57.4/400.7 MB 9.6 MB/s eta 0:00:36\n",
      "     ----- --------------------------------- 59.2/400.7 MB 9.6 MB/s eta 0:00:36\n",
      "     ----- --------------------------------- 61.3/400.7 MB 9.6 MB/s eta 0:00:36\n",
      "     ------ -------------------------------- 63.4/400.7 MB 9.6 MB/s eta 0:00:36\n",
      "     ------ -------------------------------- 65.0/400.7 MB 9.6 MB/s eta 0:00:35\n",
      "     ------ -------------------------------- 67.1/400.7 MB 9.6 MB/s eta 0:00:35\n",
      "     ------ -------------------------------- 69.2/400.7 MB 9.6 MB/s eta 0:00:35\n",
      "     ------ -------------------------------- 71.6/400.7 MB 9.6 MB/s eta 0:00:35\n",
      "     ------- ------------------------------- 73.7/400.7 MB 9.6 MB/s eta 0:00:34\n",
      "     ------- ------------------------------- 75.8/400.7 MB 9.6 MB/s eta 0:00:34\n",
      "     ------- ------------------------------- 77.9/400.7 MB 9.7 MB/s eta 0:00:34\n",
      "     ------- ------------------------------- 80.0/400.7 MB 9.7 MB/s eta 0:00:34\n",
      "     ------- ------------------------------- 82.1/400.7 MB 9.7 MB/s eta 0:00:33\n",
      "     -------- ------------------------------ 84.4/400.7 MB 9.7 MB/s eta 0:00:33\n",
      "     -------- ------------------------------ 86.8/400.7 MB 9.7 MB/s eta 0:00:33\n",
      "     -------- ------------------------------ 88.6/400.7 MB 9.7 MB/s eta 0:00:33\n",
      "     -------- ------------------------------ 90.7/400.7 MB 9.7 MB/s eta 0:00:32\n",
      "     --------- ----------------------------- 92.8/400.7 MB 9.8 MB/s eta 0:00:32\n",
      "     --------- ----------------------------- 95.2/400.7 MB 9.8 MB/s eta 0:00:32\n",
      "     --------- ----------------------------- 97.3/400.7 MB 9.8 MB/s eta 0:00:31\n",
      "     --------- ----------------------------- 99.1/400.7 MB 9.8 MB/s eta 0:00:31\n",
      "     --------- ---------------------------- 101.4/400.7 MB 9.8 MB/s eta 0:00:31\n",
      "     --------- ---------------------------- 103.3/400.7 MB 9.8 MB/s eta 0:00:31\n",
      "     --------- ---------------------------- 105.1/400.7 MB 9.8 MB/s eta 0:00:31\n",
      "     ---------- --------------------------- 107.0/400.7 MB 9.7 MB/s eta 0:00:31\n",
      "     ---------- --------------------------- 108.5/400.7 MB 9.7 MB/s eta 0:00:31\n",
      "     ---------- --------------------------- 110.6/400.7 MB 9.7 MB/s eta 0:00:30\n",
      "     ---------- --------------------------- 112.2/400.7 MB 9.7 MB/s eta 0:00:30\n",
      "     ---------- --------------------------- 113.5/400.7 MB 9.6 MB/s eta 0:00:30\n",
      "     ---------- --------------------------- 115.3/400.7 MB 9.6 MB/s eta 0:00:30\n",
      "     ----------- -------------------------- 117.2/400.7 MB 9.6 MB/s eta 0:00:30\n",
      "     ----------- -------------------------- 119.3/400.7 MB 9.6 MB/s eta 0:00:30\n",
      "     ----------- -------------------------- 121.1/400.7 MB 9.6 MB/s eta 0:00:30\n",
      "     ----------- -------------------------- 122.7/400.7 MB 9.5 MB/s eta 0:00:30\n",
      "     ----------- -------------------------- 124.3/400.7 MB 9.5 MB/s eta 0:00:30\n",
      "     ----------- -------------------------- 125.8/400.7 MB 9.5 MB/s eta 0:00:30\n",
      "     ------------ ------------------------- 127.9/400.7 MB 9.5 MB/s eta 0:00:29\n",
      "     ------------ ------------------------- 130.0/400.7 MB 9.5 MB/s eta 0:00:29\n",
      "     ------------ ------------------------- 132.1/400.7 MB 9.5 MB/s eta 0:00:29\n",
      "     ------------ ------------------------- 133.7/400.7 MB 9.5 MB/s eta 0:00:29\n",
      "     ------------ ------------------------- 135.3/400.7 MB 9.4 MB/s eta 0:00:29\n",
      "     ------------- ------------------------ 137.4/400.7 MB 9.4 MB/s eta 0:00:28\n",
      "     ------------- ------------------------ 138.9/400.7 MB 9.4 MB/s eta 0:00:28\n",
      "     ------------- ------------------------ 140.8/400.7 MB 9.4 MB/s eta 0:00:28\n",
      "     ------------- ------------------------ 142.6/400.7 MB 9.4 MB/s eta 0:00:28\n",
      "     ------------- ------------------------ 144.7/400.7 MB 9.4 MB/s eta 0:00:28\n",
      "     ------------- ------------------------ 146.5/400.7 MB 9.4 MB/s eta 0:00:28\n",
      "     -------------- ----------------------- 148.1/400.7 MB 9.3 MB/s eta 0:00:28\n",
      "     -------------- ----------------------- 150.5/400.7 MB 9.4 MB/s eta 0:00:27\n",
      "     -------------- ----------------------- 152.3/400.7 MB 9.3 MB/s eta 0:00:27\n",
      "     -------------- ----------------------- 153.9/400.7 MB 9.3 MB/s eta 0:00:27\n",
      "     -------------- ----------------------- 155.5/400.7 MB 9.3 MB/s eta 0:00:27\n",
      "     -------------- ----------------------- 157.3/400.7 MB 9.3 MB/s eta 0:00:27\n",
      "     --------------- ---------------------- 159.4/400.7 MB 9.3 MB/s eta 0:00:26\n",
      "     --------------- ---------------------- 161.5/400.7 MB 9.3 MB/s eta 0:00:26\n",
      "     --------------- ---------------------- 163.3/400.7 MB 9.3 MB/s eta 0:00:26\n",
      "     --------------- ---------------------- 165.4/400.7 MB 9.3 MB/s eta 0:00:26\n",
      "     --------------- ---------------------- 166.7/400.7 MB 9.3 MB/s eta 0:00:26\n",
      "     --------------- ---------------------- 168.6/400.7 MB 9.3 MB/s eta 0:00:26\n",
      "     ---------------- --------------------- 170.1/400.7 MB 9.3 MB/s eta 0:00:25\n",
      "     ---------------- --------------------- 172.0/400.7 MB 9.2 MB/s eta 0:00:25\n",
      "     ---------------- --------------------- 174.1/400.7 MB 9.2 MB/s eta 0:00:25\n",
      "     ---------------- --------------------- 176.2/400.7 MB 9.3 MB/s eta 0:00:25\n",
      "     ---------------- --------------------- 177.7/400.7 MB 9.2 MB/s eta 0:00:25\n",
      "     ----------------- -------------------- 179.3/400.7 MB 9.2 MB/s eta 0:00:25\n",
      "     ----------------- -------------------- 180.6/400.7 MB 9.2 MB/s eta 0:00:24\n",
      "     ----------------- -------------------- 182.2/400.7 MB 9.2 MB/s eta 0:00:24\n",
      "     ----------------- -------------------- 184.0/400.7 MB 9.2 MB/s eta 0:00:24\n",
      "     ----------------- -------------------- 185.6/400.7 MB 9.1 MB/s eta 0:00:24\n",
      "     ----------------- -------------------- 187.2/400.7 MB 9.1 MB/s eta 0:00:24\n",
      "     ----------------- -------------------- 189.5/400.7 MB 9.1 MB/s eta 0:00:24\n",
      "     ------------------ ------------------- 190.8/400.7 MB 9.1 MB/s eta 0:00:23\n",
      "     ------------------ ------------------- 192.9/400.7 MB 9.1 MB/s eta 0:00:23\n",
      "     ------------------ ------------------- 195.0/400.7 MB 9.1 MB/s eta 0:00:23\n",
      "     ------------------ ------------------- 196.9/400.7 MB 9.1 MB/s eta 0:00:23\n",
      "     ------------------ ------------------- 198.7/400.7 MB 9.1 MB/s eta 0:00:23\n",
      "     ------------------ ------------------- 198.7/400.7 MB 9.1 MB/s eta 0:00:23\n",
      "     ------------------ ------------------- 198.7/400.7 MB 9.1 MB/s eta 0:00:23\n",
      "     ------------------ ------------------- 198.7/400.7 MB 9.1 MB/s eta 0:00:23\n",
      "     ------------------ ------------------- 198.7/400.7 MB 9.1 MB/s eta 0:00:23\n",
      "     ------------------ ------------------- 198.7/400.7 MB 9.1 MB/s eta 0:00:23\n",
      "     ------------------ ------------------- 198.7/400.7 MB 9.1 MB/s eta 0:00:23\n",
      "     ------------------ ------------------- 198.7/400.7 MB 9.1 MB/s eta 0:00:23\n",
      "     ------------------ ------------------- 198.7/400.7 MB 9.1 MB/s eta 0:00:23\n",
      "     ------------------ ------------------- 198.7/400.7 MB 9.1 MB/s eta 0:00:23\n",
      "     ------------------ ------------------- 198.7/400.7 MB 9.1 MB/s eta 0:00:23\n",
      "     ------------------ ------------------- 198.7/400.7 MB 9.1 MB/s eta 0:00:23\n",
      "     ------------------ ------------------- 198.7/400.7 MB 9.1 MB/s eta 0:00:23\n",
      "     ------------------ ------------------- 198.7/400.7 MB 9.1 MB/s eta 0:00:23\n",
      "     ------------------ ------------------- 198.7/400.7 MB 9.1 MB/s eta 0:00:23\n",
      "     ------------------ ------------------- 198.7/400.7 MB 9.1 MB/s eta 0:00:23\n",
      "     ------------------ ------------------- 198.7/400.7 MB 9.1 MB/s eta 0:00:23\n",
      "     ------------------ ------------------- 198.7/400.7 MB 9.1 MB/s eta 0:00:23\n",
      "     ------------------ ------------------- 198.7/400.7 MB 9.1 MB/s eta 0:00:23\n",
      "     ------------------ ------------------- 198.7/400.7 MB 9.1 MB/s eta 0:00:23\n",
      "     ------------------ ------------------- 198.7/400.7 MB 9.1 MB/s eta 0:00:23\n",
      "     ------------------ ------------------- 198.7/400.7 MB 9.1 MB/s eta 0:00:23\n",
      "     ------------------ ------------------- 198.7/400.7 MB 9.1 MB/s eta 0:00:23\n",
      "     ------------------ ------------------- 198.7/400.7 MB 9.1 MB/s eta 0:00:23\n",
      "     ------------------ ------------------- 198.7/400.7 MB 9.1 MB/s eta 0:00:23\n",
      "     ------------------ ------------------- 198.7/400.7 MB 9.1 MB/s eta 0:00:23\n",
      "     ------------------ ------------------- 198.7/400.7 MB 9.1 MB/s eta 0:00:23\n",
      "     ------------------ ------------------- 198.7/400.7 MB 9.1 MB/s eta 0:00:23\n",
      "     ------------------ ------------------- 198.7/400.7 MB 9.1 MB/s eta 0:00:23\n",
      "     ------------------ ------------------- 198.7/400.7 MB 9.1 MB/s eta 0:00:23\n",
      "     ------------------ ------------------- 198.7/400.7 MB 9.1 MB/s eta 0:00:23\n",
      "     ------------------ ------------------- 198.7/400.7 MB 9.1 MB/s eta 0:00:23\n",
      "     ------------------ ------------------- 198.7/400.7 MB 9.1 MB/s eta 0:00:23\n",
      "     ------------------ ------------------- 198.7/400.7 MB 9.1 MB/s eta 0:00:23\n",
      "     ------------------ ------------------- 198.7/400.7 MB 9.1 MB/s eta 0:00:23\n",
      "     ------------------ ------------------- 198.7/400.7 MB 9.1 MB/s eta 0:00:23\n",
      "     ------------------ ------------------- 198.7/400.7 MB 9.1 MB/s eta 0:00:23\n",
      "     ------------------ ------------------- 198.7/400.7 MB 9.1 MB/s eta 0:00:23\n",
      "     ------------------ ------------------- 198.7/400.7 MB 9.1 MB/s eta 0:00:23\n",
      "     ------------------ ------------------- 198.7/400.7 MB 9.1 MB/s eta 0:00:23\n",
      "     ------------------ ------------------- 198.7/400.7 MB 9.1 MB/s eta 0:00:23\n",
      "     ------------------ ------------------- 198.7/400.7 MB 9.1 MB/s eta 0:00:23\n",
      "     ------------------ ------------------- 198.7/400.7 MB 9.1 MB/s eta 0:00:23\n",
      "     ------------------ ------------------- 198.7/400.7 MB 9.1 MB/s eta 0:00:23\n",
      "     ------------------ ------------------- 198.7/400.7 MB 9.1 MB/s eta 0:00:23\n",
      "     ------------------ ------------------- 198.7/400.7 MB 9.1 MB/s eta 0:00:23\n",
      "     ------------------ ------------------- 198.7/400.7 MB 9.1 MB/s eta 0:00:23\n",
      "     ------------------ ------------------- 198.7/400.7 MB 9.1 MB/s eta 0:00:23\n",
      "     ------------------ ------------------- 198.7/400.7 MB 9.1 MB/s eta 0:00:23\n",
      "     ------------------ ------------------- 198.7/400.7 MB 9.1 MB/s eta 0:00:23\n",
      "     ------------------ ------------------- 198.7/400.7 MB 9.1 MB/s eta 0:00:23\n",
      "     ------------------ ------------------- 198.7/400.7 MB 9.1 MB/s eta 0:00:23\n",
      "     ------------------ ------------------- 198.7/400.7 MB 9.1 MB/s eta 0:00:23\n",
      "     ------------------ ------------------- 198.7/400.7 MB 9.1 MB/s eta 0:00:23\n",
      "     ------------------ ------------------- 198.7/400.7 MB 9.1 MB/s eta 0:00:23\n",
      "     ------------------ ------------------- 198.7/400.7 MB 9.1 MB/s eta 0:00:23\n",
      "     ------------------ ------------------- 198.7/400.7 MB 9.1 MB/s eta 0:00:23\n",
      "     ------------------ ------------------- 198.7/400.7 MB 9.1 MB/s eta 0:00:23\n",
      "     ------------------ ------------------- 198.7/400.7 MB 9.1 MB/s eta 0:00:23\n",
      "     ------------------ ------------------- 198.7/400.7 MB 9.1 MB/s eta 0:00:23\n",
      "     ------------------ ------------------- 198.7/400.7 MB 9.1 MB/s eta 0:00:23\n",
      "     ------------------ ------------------- 199.0/400.7 MB 5.3 MB/s eta 0:00:39\n",
      "     ------------------- ------------------ 203.4/400.7 MB 5.3 MB/s eta 0:00:37\n",
      "     ------------------- ------------------ 205.3/400.7 MB 5.3 MB/s eta 0:00:37\n",
      "     ------------------- ------------------ 207.1/400.7 MB 5.3 MB/s eta 0:00:37\n",
      "     ------------------- ------------------ 208.7/400.7 MB 5.3 MB/s eta 0:00:37\n",
      "     ------------------- ------------------ 210.5/400.7 MB 5.3 MB/s eta 0:00:37\n",
      "     -------------------- ----------------- 212.6/400.7 MB 5.3 MB/s eta 0:00:36\n",
      "     -------------------- ----------------- 214.2/400.7 MB 5.3 MB/s eta 0:00:36\n",
      "     -------------------- ----------------- 216.0/400.7 MB 5.2 MB/s eta 0:00:36\n",
      "     -------------------- ----------------- 218.1/400.7 MB 5.3 MB/s eta 0:00:35\n",
      "     -------------------- ----------------- 219.9/400.7 MB 5.3 MB/s eta 0:00:35\n",
      "     --------------------- ---------------- 221.5/400.7 MB 5.2 MB/s eta 0:00:35\n",
      "     --------------------- ---------------- 223.6/400.7 MB 5.2 MB/s eta 0:00:34\n",
      "     --------------------- ---------------- 225.4/400.7 MB 5.2 MB/s eta 0:00:34\n",
      "     --------------------- ---------------- 227.3/400.7 MB 5.2 MB/s eta 0:00:34\n",
      "     --------------------- ---------------- 228.9/400.7 MB 5.2 MB/s eta 0:00:33\n",
      "     --------------------- ---------------- 230.9/400.7 MB 5.2 MB/s eta 0:00:33\n",
      "     ---------------------- --------------- 232.5/400.7 MB 5.2 MB/s eta 0:00:33\n",
      "     ---------------------- --------------- 234.4/400.7 MB 5.2 MB/s eta 0:00:33\n",
      "     ---------------------- --------------- 236.5/400.7 MB 5.2 MB/s eta 0:00:32\n",
      "     ---------------------- --------------- 238.8/400.7 MB 5.2 MB/s eta 0:00:32\n",
      "     ---------------------- --------------- 240.6/400.7 MB 5.2 MB/s eta 0:00:32\n",
      "     ---------------------- --------------- 242.5/400.7 MB 5.1 MB/s eta 0:00:31\n",
      "     ----------------------- -------------- 244.1/400.7 MB 5.1 MB/s eta 0:00:31\n",
      "     ----------------------- -------------- 245.9/400.7 MB 5.1 MB/s eta 0:00:31\n",
      "     ----------------------- -------------- 247.7/400.7 MB 5.1 MB/s eta 0:00:30\n",
      "     ----------------------- -------------- 249.3/400.7 MB 5.1 MB/s eta 0:00:30\n",
      "     ----------------------- -------------- 251.1/400.7 MB 5.1 MB/s eta 0:00:30\n",
      "     ----------------------- -------------- 253.0/400.7 MB 5.1 MB/s eta 0:00:30\n",
      "     ------------------------ ------------- 255.1/400.7 MB 5.1 MB/s eta 0:00:29\n",
      "     ------------------------ ------------- 257.2/400.7 MB 5.1 MB/s eta 0:00:29\n",
      "     ------------------------ ------------- 258.5/400.7 MB 5.1 MB/s eta 0:00:29\n",
      "     ------------------------ ------------- 260.3/400.7 MB 5.1 MB/s eta 0:00:28\n",
      "     ------------------------ ------------- 262.1/400.7 MB 5.1 MB/s eta 0:00:28\n",
      "     ------------------------- ------------ 264.2/400.7 MB 5.1 MB/s eta 0:00:27\n",
      "     ------------------------- ------------ 266.1/400.7 MB 5.1 MB/s eta 0:00:27\n",
      "     ------------------------- ------------ 268.2/400.7 MB 5.1 MB/s eta 0:00:26\n",
      "     ------------------------- ------------ 269.7/400.7 MB 5.1 MB/s eta 0:00:26\n",
      "     ------------------------- ------------ 270.8/400.7 MB 5.1 MB/s eta 0:00:26\n",
      "     ------------------------- ------------ 272.6/400.7 MB 5.1 MB/s eta 0:00:26\n",
      "     -------------------------- ----------- 274.2/400.7 MB 5.1 MB/s eta 0:00:25\n",
      "     -------------------------- ----------- 276.3/400.7 MB 5.1 MB/s eta 0:00:25\n",
      "     -------------------------- ----------- 277.9/400.7 MB 5.1 MB/s eta 0:00:25\n",
      "     -------------------------- ----------- 280.2/400.7 MB 5.1 MB/s eta 0:00:24\n",
      "     -------------------------- ----------- 282.3/400.7 MB 5.1 MB/s eta 0:00:24\n",
      "     -------------------------- ----------- 283.9/400.7 MB 5.1 MB/s eta 0:00:23\n",
      "     --------------------------- ---------- 286.0/400.7 MB 5.1 MB/s eta 0:00:23\n",
      "     --------------------------- ---------- 288.1/400.7 MB 5.1 MB/s eta 0:00:23\n",
      "     --------------------------- ---------- 289.9/400.7 MB 5.1 MB/s eta 0:00:22\n",
      "     --------------------------- ---------- 292.0/400.7 MB 5.1 MB/s eta 0:00:22\n",
      "     --------------------------- ---------- 294.6/400.7 MB 5.1 MB/s eta 0:00:21\n",
      "     ---------------------------- --------- 296.7/400.7 MB 5.2 MB/s eta 0:00:21\n",
      "     ---------------------------- --------- 298.8/400.7 MB 5.2 MB/s eta 0:00:20\n",
      "     ---------------------------- --------- 301.2/400.7 MB 5.2 MB/s eta 0:00:20\n",
      "     ---------------------------- --------- 303.6/400.7 MB 5.2 MB/s eta 0:00:19\n",
      "     ---------------------------- --------- 305.7/400.7 MB 5.2 MB/s eta 0:00:19\n",
      "     ----------------------------- -------- 307.5/400.7 MB 5.2 MB/s eta 0:00:18\n",
      "     ----------------------------- -------- 309.3/400.7 MB 5.2 MB/s eta 0:00:18\n",
      "     ----------------------------- -------- 311.4/400.7 MB 5.2 MB/s eta 0:00:18\n",
      "     ----------------------------- -------- 313.8/400.7 MB 5.2 MB/s eta 0:00:17\n",
      "     ----------------------------- -------- 315.9/400.7 MB 5.2 MB/s eta 0:00:17\n",
      "     ------------------------------ ------- 317.7/400.7 MB 5.2 MB/s eta 0:00:16\n",
      "     ------------------------------ ------- 319.8/400.7 MB 5.2 MB/s eta 0:00:16\n",
      "     ------------------------------ ------- 322.2/400.7 MB 5.3 MB/s eta 0:00:15\n",
      "     ------------------------------ ------- 322.4/400.7 MB 5.3 MB/s eta 0:00:15\n",
      "     ------------------------------ ------- 322.4/400.7 MB 5.3 MB/s eta 0:00:15\n",
      "     ------------------------------ ------- 322.4/400.7 MB 5.3 MB/s eta 0:00:15\n",
      "     ------------------------------ ------- 326.6/400.7 MB 5.2 MB/s eta 0:00:15\n",
      "     ------------------------------- ------ 327.9/400.7 MB 5.2 MB/s eta 0:00:15\n",
      "     ------------------------------- ------ 330.3/400.7 MB 5.2 MB/s eta 0:00:14\n",
      "     ------------------------------- ------ 332.7/400.7 MB 5.2 MB/s eta 0:00:14\n",
      "     ------------------------------- ------ 334.8/400.7 MB 5.2 MB/s eta 0:00:13\n",
      "     ------------------------------- ------ 337.1/400.7 MB 5.2 MB/s eta 0:00:13\n",
      "     -------------------------------- ----- 339.0/400.7 MB 5.3 MB/s eta 0:00:12\n",
      "     -------------------------------- ----- 341.3/400.7 MB 5.3 MB/s eta 0:00:12\n",
      "     -------------------------------- ----- 343.1/400.7 MB 5.3 MB/s eta 0:00:11\n",
      "     -------------------------------- ----- 345.0/400.7 MB 5.3 MB/s eta 0:00:11\n",
      "     -------------------------------- ----- 347.3/400.7 MB 5.3 MB/s eta 0:00:11\n",
      "     --------------------------------- ---- 349.4/400.7 MB 5.3 MB/s eta 0:00:10\n",
      "     --------------------------------- ---- 351.8/400.7 MB 5.3 MB/s eta 0:00:10\n",
      "     --------------------------------- ---- 354.2/400.7 MB 5.3 MB/s eta 0:00:09\n",
      "     --------------------------------- ---- 356.3/400.7 MB 5.3 MB/s eta 0:00:09\n",
      "     --------------------------------- ---- 358.4/400.7 MB 5.4 MB/s eta 0:00:08\n",
      "     ---------------------------------- --- 360.4/400.7 MB 9.2 MB/s eta 0:00:05\n",
      "     ---------------------------------- --- 362.0/400.7 MB 9.2 MB/s eta 0:00:05\n",
      "     ---------------------------------- --- 363.6/400.7 MB 9.2 MB/s eta 0:00:05\n",
      "     ---------------------------------- --- 365.2/400.7 MB 9.1 MB/s eta 0:00:04\n",
      "     ---------------------------------- --- 367.0/400.7 MB 9.2 MB/s eta 0:00:04\n",
      "     ----------------------------------- -- 369.4/400.7 MB 9.2 MB/s eta 0:00:04\n",
      "     ----------------------------------- -- 371.2/400.7 MB 9.2 MB/s eta 0:00:04\n",
      "     ----------------------------------- -- 373.3/400.7 MB 9.2 MB/s eta 0:00:03\n",
      "     ----------------------------------- -- 375.4/400.7 MB 9.2 MB/s eta 0:00:03\n",
      "     ----------------------------------- -- 377.5/400.7 MB 9.2 MB/s eta 0:00:03\n",
      "     ----------------------------------- -- 379.1/400.7 MB 9.2 MB/s eta 0:00:03\n",
      "     ------------------------------------ - 381.4/400.7 MB 9.2 MB/s eta 0:00:03\n",
      "     ------------------------------------ - 383.8/400.7 MB 9.2 MB/s eta 0:00:02\n",
      "     ------------------------------------ - 385.9/400.7 MB 9.2 MB/s eta 0:00:02\n",
      "     ------------------------------------ - 388.2/400.7 MB 9.2 MB/s eta 0:00:02\n",
      "     -------------------------------------  390.6/400.7 MB 9.3 MB/s eta 0:00:02\n",
      "     -------------------------------------  393.0/400.7 MB 9.3 MB/s eta 0:00:01\n",
      "     -------------------------------------  395.1/400.7 MB 9.3 MB/s eta 0:00:01\n",
      "     -------------------------------------  396.6/400.7 MB 9.3 MB/s eta 0:00:01\n",
      "     -------------------------------------  398.5/400.7 MB 9.3 MB/s eta 0:00:01\n",
      "     -------------------------------------  400.6/400.7 MB 9.3 MB/s eta 0:00:01\n",
      "     -------------------------------------  400.6/400.7 MB 9.3 MB/s eta 0:00:01\n",
      "     -------------------------------------  400.6/400.7 MB 9.3 MB/s eta 0:00:01\n",
      "     -------------------------------------  400.6/400.7 MB 9.3 MB/s eta 0:00:01\n",
      "     -------------------------------------  400.6/400.7 MB 9.3 MB/s eta 0:00:01\n",
      "     -------------------------------------  400.6/400.7 MB 9.3 MB/s eta 0:00:01\n",
      "     -------------------------------------  400.6/400.7 MB 9.3 MB/s eta 0:00:01\n",
      "     -------------------------------------  400.6/400.7 MB 9.3 MB/s eta 0:00:01\n",
      "     -------------------------------------  400.6/400.7 MB 9.3 MB/s eta 0:00:01\n",
      "     -------------------------------------- 400.7/400.7 MB 8.6 MB/s eta 0:00:00\n",
      "\u001b[38;5;2m[+] Download and installation successful\u001b[0m\n",
      "You can now load the package via spacy.load('en_core_web_lg')\n"
     ]
    },
    {
     "name": "stderr",
     "output_type": "stream",
     "text": [
      "\n",
      "[notice] A new release of pip is available: 24.3.1 -> 25.0.1\n",
      "[notice] To update, run: python.exe -m pip install --upgrade pip\n"
     ]
    }
   ],
   "source": [
    "!python -m spacy download en_core_web_lg"
   ]
  },
  {
   "cell_type": "code",
   "execution_count": 3,
   "id": "0a21435b-8e92-42bb-abc6-95a12a7c287a",
   "metadata": {},
   "outputs": [],
   "source": [
    "nlp = spacy.load(\"en_core_web_lg\")"
   ]
  },
  {
   "cell_type": "code",
   "execution_count": 4,
   "id": "786445c8-f806-4082-8c0b-f54ca4cac101",
   "metadata": {},
   "outputs": [],
   "source": [
    "def load_docx_from_folder(folder_path, is_cv=True):\n",
    "    documents = []\n",
    "    filenames = []\n",
    "    descriptions = []\n",
    "    for filepath in glob.glob(os.path.join(folder_path, '*.docx')):\n",
    "        text = extract_text_from_docx(filepath=filepath, is_cv=is_cv)\n",
    "        text = text.replace('\\n', ' ')\n",
    "        text = text.replace('  ', ' ')\n",
    "        if not is_cv:\n",
    "            text = text.split(\"Benefits:\")[0]\n",
    "            description = text.split(\"Key Responsibilities:\")[0]\n",
    "        else:\n",
    "            description = text.split(\"Project Experience\")[1]\n",
    "        documents.append(text)\n",
    "        filenames.append(os.path.basename(filepath))\n",
    "        descriptions.append(description)\n",
    "    return documents, filenames, descriptions"
   ]
  },
  {
   "cell_type": "code",
   "execution_count": 5,
   "id": "617402af-fb26-4c2e-9b22-8412cbe39069",
   "metadata": {},
   "outputs": [],
   "source": [
    "def extract_text_from_docx(filepath, is_cv):\n",
    "    doc = Document(filepath)\n",
    "    return ' '.join([para.text for para in doc.paragraphs[1 if is_cv else 0:]])"
   ]
  },
  {
   "cell_type": "code",
   "execution_count": 6,
   "id": "923430ac-42dc-4822-8907-ac981edcbd0a",
   "metadata": {},
   "outputs": [],
   "source": [
    "# Set your folders here\n",
    "cv_folder = './DataSet/cv'\n",
    "job_folder = './DataSet/job_descriptions'"
   ]
  },
  {
   "cell_type": "code",
   "execution_count": 7,
   "id": "e0538162-435e-4433-90d8-eff7dd453bc6",
   "metadata": {},
   "outputs": [],
   "source": [
    "# Load documents\n",
    "cv_texts, cv_files, cv_project_experiences = load_docx_from_folder(cv_folder)\n",
    "job_texts, job_files, company_descriptions = load_docx_from_folder(job_folder, is_cv=False)"
   ]
  },
  {
   "cell_type": "code",
   "execution_count": 8,
   "id": "1d81efcd-594d-4038-b6f2-b91e1475f836",
   "metadata": {},
   "outputs": [],
   "source": [
    "# Custom tokenizer using spaCy\n",
    "def spacy_tokenizer(text):\n",
    "    doc = nlp(text)\n",
    "    return [token.lemma_.lower() for token in doc if not token.is_stop and not token.is_punct and not token.text.isspace() and not token.text.isnumeric()]"
   ]
  },
  {
   "cell_type": "code",
   "execution_count": 9,
   "id": "2e116b88-95f4-4145-af56-7210f45aa931",
   "metadata": {},
   "outputs": [],
   "source": [
    "cv_one = nlp(\" \".join(spacy_tokenizer(cv_texts[0])))\n",
    "job_one = nlp(\" \".join(spacy_tokenizer(job_texts[0])))"
   ]
  },
  {
   "cell_type": "code",
   "execution_count": 10,
   "id": "8f167395-1740-44ab-8f8b-e41382a21885",
   "metadata": {},
   "outputs": [
    {
     "data": {
      "text/plain": [
       "spacy.tokens.doc.Doc"
      ]
     },
     "execution_count": 10,
     "metadata": {},
     "output_type": "execute_result"
    }
   ],
   "source": [
    "type(job_one)"
   ]
  },
  {
   "cell_type": "code",
   "execution_count": 11,
   "id": "e278eaba-0dec-4b02-b501-a392a73b7b1f",
   "metadata": {},
   "outputs": [
    {
     "data": {
      "text/plain": [
       "job title senior ui ux designer company overview innovatetech solutions lead technology company dedicate create cut edge digital product enhance user experience platform team passionate innovation creativity deliver exceptional solution meet evolve need client pride foster collaborative inclusive work environment team member idea value contribute success key responsibilities lead design development user interface experience web mobile application ensure seamless intuitive user journey collaborate cross functional team include product manager developer designer translate business requirement innovative design solution conduct user research usability testing gather insight validate design concept iterate base feedback enhance user satisfaction create wireframe prototype high fidelity design industry standard design tool ensure consistency brand guideline design system mentor provide guidance junior designer foster culture continuous learning improvement design team stay update late ui ux trend technique technology apply improve design process deliverable present design concept solution stakeholder articulate design rationale incorporate feedback refine design required qualifications bachelor degree design human computer interaction related field minimum year experience ui ux design strong portfolio showcase diverse design project proficiency design software adobe creative suite sketch figma similar tool strong understanding user center design principle good practice excellent communication presentation skill ability articulate design decision effectively preferred skills experience end development technology html css javascript familiarity agile methodology work agile environment knowledge accessibility standard good practice design experience design variety platform include web mobile emerge technology like ar vr"
      ]
     },
     "execution_count": 11,
     "metadata": {},
     "output_type": "execute_result"
    }
   ],
   "source": [
    "job_one"
   ]
  },
  {
   "cell_type": "code",
   "execution_count": 12,
   "id": "0d08b30a-8f94-45f9-b001-59ab5b4b1b8d",
   "metadata": {},
   "outputs": [
    {
     "data": {
      "text/plain": [
       "technical skills python tensorflow javascript reactjs aws sagemaker docker sql postgresql figma adobe xd foreign languages english c1 spanish b1 education university university politehnica bucharest program duration year master degree university politehnica bucharest program duration year certifications aws certified machine learning specialty docker certified associate tensorflow developer certificate project experience predictive analytics platform develop predictive analytic platform python tensorflow aim provide real time insight retail business leveraged aws sagemaker model training deployment ensure scalable efficient processing large dataset implement docker container streamline development deployment process enhance collaboration team technology tool python tensorflow aws sagemaker docker interactive web application data visualization create interactive web application visualize complex dataset javascript reactjs design intuitive user interface figma adobe xd focus enhance user engagement accessibility integrate postgresql robust data management implement sql query optimize data retrieval process technology tool javascript reactjs figma adobe xd sql postgresql"
      ]
     },
     "execution_count": 12,
     "metadata": {},
     "output_type": "execute_result"
    }
   ],
   "source": [
    "nlp(cv_one)"
   ]
  },
  {
   "cell_type": "code",
   "execution_count": 13,
   "id": "63f5e1eb-46e4-4604-b707-5bab3edb1b38",
   "metadata": {},
   "outputs": [
    {
     "data": {
      "text/plain": [
       "0.8850290179252625"
      ]
     },
     "execution_count": 13,
     "metadata": {},
     "output_type": "execute_result"
    }
   ],
   "source": [
    "cv_one.similarity(job_one)"
   ]
  },
  {
   "cell_type": "code",
   "execution_count": 14,
   "id": "cdf9b0dd-a47e-44e7-a029-9ce19837ae00",
   "metadata": {},
   "outputs": [],
   "source": [
    "cv_texts_preprocessed = [\" \".join(spacy_tokenizer(cv_text)) for cv_text in cv_texts]\n",
    "job_texts_preprocessed = [\" \".join(spacy_tokenizer(job_text)) for job_text in job_texts]"
   ]
  },
  {
   "cell_type": "code",
   "execution_count": 15,
   "id": "3329bcc7-b8c7-4071-af1a-093cd2047933",
   "metadata": {},
   "outputs": [],
   "source": [
    "job_text_preprocessed = nlp(job_texts_preprocessed[0])"
   ]
  },
  {
   "cell_type": "code",
   "execution_count": 16,
   "id": "59f1dbe0-a746-4b12-a11d-d5375f3d4abf",
   "metadata": {},
   "outputs": [
    {
     "data": {
      "text/plain": [
       "job title senior ui ux designer company overview innovatetech solutions lead technology company dedicate create cut edge digital product enhance user experience platform team passionate innovation creativity deliver exceptional solution meet evolve need client pride foster collaborative inclusive work environment team member idea value contribute success key responsibilities lead design development user interface experience web mobile application ensure seamless intuitive user journey collaborate cross functional team include product manager developer designer translate business requirement innovative design solution conduct user research usability testing gather insight validate design concept iterate base feedback enhance user satisfaction create wireframe prototype high fidelity design industry standard design tool ensure consistency brand guideline design system mentor provide guidance junior designer foster culture continuous learning improvement design team stay update late ui ux trend technique technology apply improve design process deliverable present design concept solution stakeholder articulate design rationale incorporate feedback refine design required qualifications bachelor degree design human computer interaction related field minimum year experience ui ux design strong portfolio showcase diverse design project proficiency design software adobe creative suite sketch figma similar tool strong understanding user center design principle good practice excellent communication presentation skill ability articulate design decision effectively preferred skills experience end development technology html css javascript familiarity agile methodology work agile environment knowledge accessibility standard good practice design experience design variety platform include web mobile emerge technology like ar vr"
      ]
     },
     "execution_count": 16,
     "metadata": {},
     "output_type": "execute_result"
    }
   ],
   "source": [
    "job_text_preprocessed"
   ]
  },
  {
   "cell_type": "code",
   "execution_count": 17,
   "id": "1716af40-a715-43ad-be9a-fc5e8e31f51c",
   "metadata": {},
   "outputs": [],
   "source": [
    "spacy_scores = [job_text_preprocessed.similarity(nlp(cv_text_preprocessed)) for cv_text_preprocessed in cv_texts_preprocessed]"
   ]
  },
  {
   "cell_type": "code",
   "execution_count": 18,
   "id": "22b5ca35-c43f-4282-abf5-84bdcc7f81a6",
   "metadata": {},
   "outputs": [],
   "source": [
    "# Get top N (e.g., top 10 semantically relevant)\n",
    "top_n = 10\n",
    "top_indices = np.argsort(spacy_scores)[-top_n:][::-1]\n",
    "filtered_cvs = [cv_texts[i] for i in top_indices]"
   ]
  },
  {
   "cell_type": "code",
   "execution_count": 19,
   "id": "cfa19cab-b1fb-41ff-95d8-8b7053a40fa5",
   "metadata": {},
   "outputs": [
    {
     "data": {
      "text/plain": [
       "array([265, 373, 311, 437, 200, 441, 191, 415,  81, 160])"
      ]
     },
     "execution_count": 19,
     "metadata": {},
     "output_type": "execute_result"
    }
   ],
   "source": [
    "top_indices"
   ]
  },
  {
   "cell_type": "code",
   "execution_count": 20,
   "id": "bddba978-d4d7-40d7-a029-b661eeba0416",
   "metadata": {},
   "outputs": [],
   "source": [
    "similarities_embeddings = [spacy_scores[i] for i in top_indices]"
   ]
  },
  {
   "cell_type": "code",
   "execution_count": 21,
   "id": "463e641a-a596-43b7-848d-f58a8863d303",
   "metadata": {},
   "outputs": [
    {
     "data": {
      "text/plain": [
       "[0.9647905230522156,\n",
       " 0.963344395160675,\n",
       " 0.9630864858627319,\n",
       " 0.9598843455314636,\n",
       " 0.9560001492500305,\n",
       " 0.9556804299354553,\n",
       " 0.9551587700843811,\n",
       " 0.9549747109413147,\n",
       " 0.9548625946044922,\n",
       " 0.9547834396362305]"
      ]
     },
     "execution_count": 21,
     "metadata": {},
     "output_type": "execute_result"
    }
   ],
   "source": [
    "similarities_embeddings"
   ]
  },
  {
   "cell_type": "code",
   "execution_count": 22,
   "id": "439af698-4a46-4034-8116-c89a1ab0020f",
   "metadata": {},
   "outputs": [
    {
     "data": {
      "text/plain": [
       "0.9547834396362305"
      ]
     },
     "execution_count": 22,
     "metadata": {},
     "output_type": "execute_result"
    }
   ],
   "source": [
    "spacy_scores[160]"
   ]
  },
  {
   "cell_type": "code",
   "execution_count": 23,
   "id": "bdde349f-eac8-4450-ad96-0154529d996e",
   "metadata": {},
   "outputs": [
    {
     "data": {
      "text/plain": [
       "'Technical Skills - JavaScript, ReactJS - HTML, CSS, Bootstrap - Figma, Adobe XD - Sketch, InVision Foreign Languages - English: C1 - Spanish: B2 Education - University Name: University of Bucharest - Program Duration: 4 years - Master Degree Name: University of Bucharest - Program Duration: 2 years Certifications - Microsoft Certified: Power Platform Fundamentals - Adobe Certified Associate (ACA): Visual Design Using Adobe XD - Certified Internet Web Professional (CIW) Site Development Associate Project Experience 1. Interactive Portfolio Website  Developed a personal portfolio website using HTML, CSS, and Bootstrap to showcase design and development projects. Implemented interactive features with JavaScript and ReactJS to enhance user engagement, such as dynamic content loading and smooth scrolling effects. Utilized Figma and Adobe XD for designing the layout and ensuring a responsive design across various devices. The project helped in improving my skills in front-end development and UI/UX design. 2. Social Media Dashboard Design  Designed a comprehensive social media dashboard using Sketch and InVision, focusing on user experience and accessibility. Conducted user testing sessions to gather feedback and iterated on the design to improve usability. Collaborated with a team of developers to integrate the design into a ReactJS application, ensuring consistency between the design mockups and the final product. This project enhanced my ability to translate user needs into practical design solutions. 3. E-commerce Landing Page Redesign  Led the redesign of an e-commerce landing page using ReactJS and Bootstrap to improve user engagement and conversion rates. Employed Figma and Adobe XD to create wireframes and high-fidelity prototypes, ensuring a modern and cohesive visual style. Worked closely with stakeholders to align the design with business goals and implemented A/B testing to validate design choices. This project allowed me to apply my skills in both design and front-end development effectively.'"
      ]
     },
     "execution_count": 23,
     "metadata": {},
     "output_type": "execute_result"
    }
   ],
   "source": [
    "cv_texts[265]"
   ]
  },
  {
   "cell_type": "code",
   "execution_count": 24,
   "id": "0b977da1-0353-42ae-8209-168c44035103",
   "metadata": {},
   "outputs": [
    {
     "data": {
      "text/plain": [
       "'Technical Skills - JavaScript, ReactJS - HTML, CSS, Bootstrap - Figma, Adobe XD - Sketch, InVision Foreign Languages - English: C1 - Spanish: B2 Education - University Name: University of Bucharest - Program Duration: 4 years - Master Degree Name: University of Bucharest - Program Duration: 2 years Certifications - Microsoft Certified: Power Platform Fundamentals - Adobe Certified Associate (ACA): Visual Design Using Adobe XD - Certified Internet Web Professional (CIW) Site Development Associate Project Experience 1. Interactive Portfolio Website  Developed a personal portfolio website using HTML, CSS, and Bootstrap to showcase design and development projects. Implemented interactive features with JavaScript and ReactJS to enhance user engagement, such as dynamic content loading and smooth scrolling effects. Utilized Figma and Adobe XD for designing the layout and ensuring a responsive design across various devices. The project helped in improving my skills in front-end development and UI/UX design. 2. Social Media Dashboard Design  Designed a comprehensive social media dashboard using Sketch and InVision, focusing on user experience and accessibility. Conducted user testing sessions to gather feedback and iterated on the design to improve usability. Collaborated with a team of developers to integrate the design into a ReactJS application, ensuring consistency between the design mockups and the final product. This project enhanced my ability to translate user needs into practical design solutions. 3. E-commerce Landing Page Redesign  Led the redesign of an e-commerce landing page using ReactJS and Bootstrap to improve user engagement and conversion rates. Employed Figma and Adobe XD to create wireframes and high-fidelity prototypes, ensuring a modern and cohesive visual style. Worked closely with stakeholders to align the design with business goals and implemented A/B testing to validate design choices. This project allowed me to apply my skills in both design and front-end development effectively.'"
      ]
     },
     "execution_count": 24,
     "metadata": {},
     "output_type": "execute_result"
    }
   ],
   "source": [
    "filtered_cvs[0]"
   ]
  },
  {
   "cell_type": "code",
   "execution_count": 25,
   "id": "86f513fc-f546-4d74-8e68-c80ca57b7ae1",
   "metadata": {},
   "outputs": [],
   "source": [
    "top_embedding_matching_cvs = [cv_texts_preprocessed[i] for i in top_indices]"
   ]
  },
  {
   "cell_type": "code",
   "execution_count": 26,
   "id": "9cd16abb-b677-4ba9-88cc-22964df7b94d",
   "metadata": {},
   "outputs": [],
   "source": [
    "from sklearn.feature_extraction.text import TfidfVectorizer"
   ]
  },
  {
   "cell_type": "code",
   "execution_count": 27,
   "id": "b0202465-1255-4c51-a94f-df504e99fdd3",
   "metadata": {},
   "outputs": [],
   "source": [
    "# Combine both for training\n",
    "combined_cv_job_description_preprocessed = top_embedding_matching_cvs + [job_texts_preprocessed[0]]"
   ]
  },
  {
   "cell_type": "code",
   "execution_count": 28,
   "id": "b69e8af7-1965-48c5-b750-55326119ba93",
   "metadata": {},
   "outputs": [],
   "source": [
    "# Fit vectorizer on combined\n",
    "vectorizer = TfidfVectorizer()\n",
    "tfidf_matrix = vectorizer.fit_transform(combined_cv_job_description_preprocessed)"
   ]
  },
  {
   "cell_type": "code",
   "execution_count": 29,
   "id": "31719935-06b7-4a2c-9174-f1b378fae42d",
   "metadata": {},
   "outputs": [],
   "source": [
    "# Now split it back\n",
    "cv_vectors = tfidf_matrix[:len(top_embedding_matching_cvs)]\n",
    "job_vectors = tfidf_matrix[len(top_embedding_matching_cvs):]"
   ]
  },
  {
   "cell_type": "code",
   "execution_count": 30,
   "id": "33690cf3-dcd5-4ed3-a4fa-1d4b3cd2c872",
   "metadata": {},
   "outputs": [],
   "source": [
    "from sklearn.metrics.pairwise import cosine_similarity"
   ]
  },
  {
   "cell_type": "code",
   "execution_count": 31,
   "id": "f4e93ae0-82f1-406d-918e-bd5c154e8d05",
   "metadata": {},
   "outputs": [],
   "source": [
    "similarities_tfidf = cosine_similarity(job_vectors, cv_vectors)"
   ]
  },
  {
   "cell_type": "code",
   "execution_count": 32,
   "id": "ed89d308-4aa3-4a6b-9398-05c65b279836",
   "metadata": {},
   "outputs": [
    {
     "name": "stdout",
     "output_type": "stream",
     "text": [
      "(1, 10)\n"
     ]
    }
   ],
   "source": [
    "print(similarities_tfidf.shape)"
   ]
  },
  {
   "cell_type": "code",
   "execution_count": 33,
   "id": "38f5b82b-13f2-4997-8fab-d0956cf0a275",
   "metadata": {},
   "outputs": [
    {
     "data": {
      "text/plain": [
       "(10,)"
      ]
     },
     "execution_count": 33,
     "metadata": {},
     "output_type": "execute_result"
    }
   ],
   "source": [
    "similarities_tfidf[0].shape"
   ]
  },
  {
   "cell_type": "code",
   "execution_count": 34,
   "id": "59ea5a49-64de-4f3d-b8fd-021ad9afd15e",
   "metadata": {},
   "outputs": [
    {
     "data": {
      "text/plain": [
       "array([[0.37934255],\n",
       "       [0.30752267],\n",
       "       [0.33582187],\n",
       "       [0.21218436],\n",
       "       [0.38944961],\n",
       "       [0.23292916],\n",
       "       [0.35446832],\n",
       "       [0.2195414 ],\n",
       "       [0.30486361],\n",
       "       [0.3013252 ]])"
      ]
     },
     "execution_count": 34,
     "metadata": {},
     "output_type": "execute_result"
    }
   ],
   "source": [
    "np.array(similarities_tfidf).reshape(-1, 1)"
   ]
  },
  {
   "cell_type": "code",
   "execution_count": 35,
   "id": "c14d8782-d799-49d9-828d-477b97bd773a",
   "metadata": {},
   "outputs": [],
   "source": [
    "from sklearn.preprocessing import MinMaxScaler"
   ]
  },
  {
   "cell_type": "code",
   "execution_count": 36,
   "id": "7c67fd56-e19c-4163-b439-d7f0b382afd3",
   "metadata": {},
   "outputs": [
    {
     "data": {
      "text/plain": [
       "np.float64(0.010007083415985107)"
      ]
     },
     "execution_count": 36,
     "metadata": {},
     "output_type": "execute_result"
    }
   ],
   "source": [
    "np.array(similarities_embeddings).max() - np.array(similarities_embeddings).min()"
   ]
  },
  {
   "cell_type": "code",
   "execution_count": 37,
   "id": "2243c9fc-63b7-45dc-84ab-f60270fd0cb7",
   "metadata": {},
   "outputs": [],
   "source": [
    "scaler = MinMaxScaler()"
   ]
  },
  {
   "cell_type": "code",
   "execution_count": 66,
   "id": "c3a7d724-e1f3-4501-b767-71dfd948a969",
   "metadata": {},
   "outputs": [],
   "source": [
    "#similarities_embeddings_scaled = scaler.fit_transform(np.array(similarities_embeddings).reshape(-1, 1)).flatten()"
   ]
  },
  {
   "cell_type": "code",
   "execution_count": 67,
   "id": "c2031bff-4040-48a2-9dc3-90f066648b3e",
   "metadata": {},
   "outputs": [],
   "source": [
    "similarities_tfidf_scaled = scaler.fit_transform(np.array(similarities_tfidf).reshape(-1, 1)).flatten()"
   ]
  },
  {
   "cell_type": "code",
   "execution_count": 68,
   "id": "070659d2-7f23-4b18-bf56-f2bc8b5b5e2a",
   "metadata": {},
   "outputs": [
    {
     "data": {
      "text/plain": [
       "array([0.94298338, 0.53782853, 0.69747178, 0.        , 1.        ,\n",
       "       0.11702691, 0.80266129, 0.04150303, 0.52282809, 0.50286695])"
      ]
     },
     "execution_count": 68,
     "metadata": {},
     "output_type": "execute_result"
    }
   ],
   "source": [
    "similarities_tfidf_scaled"
   ]
  },
  {
   "cell_type": "code",
   "execution_count": 71,
   "id": "7a68c4c3-a3ae-449d-a17c-ad0233e3e2f0",
   "metadata": {},
   "outputs": [
    {
     "data": {
      "text/plain": [
       "array([[0.96479052],\n",
       "       [0.9633444 ],\n",
       "       [0.96308649],\n",
       "       [0.95988435],\n",
       "       [0.95600015],\n",
       "       [0.95568043],\n",
       "       [0.95515877],\n",
       "       [0.95497471],\n",
       "       [0.95486259],\n",
       "       [0.95478344]])"
      ]
     },
     "execution_count": 71,
     "metadata": {},
     "output_type": "execute_result"
    }
   ],
   "source": [
    "np.array(similarities_embeddings).reshape(-1, 1)"
   ]
  },
  {
   "cell_type": "code",
   "execution_count": 41,
   "id": "f0ad6187-a33c-4e19-b2cb-ec28bad0a799",
   "metadata": {},
   "outputs": [],
   "source": [
    "final_scores = 0.6 * similarities_embeddings_scaled + 0.4 * similarities_tfidf_scaled"
   ]
  },
  {
   "cell_type": "code",
   "execution_count": 42,
   "id": "84e43821-5c41-464a-a444-81e3a4166067",
   "metadata": {},
   "outputs": [
    {
     "data": {
      "text/plain": [
       "array([0.97719335, 0.72842516, 0.77681885, 0.30583772, 0.4729509 ,\n",
       "       0.10059209, 0.3435684 , 0.02806937, 0.21387717, 0.20114678])"
      ]
     },
     "execution_count": 42,
     "metadata": {},
     "output_type": "execute_result"
    }
   ],
   "source": [
    "final_scores"
   ]
  },
  {
   "cell_type": "code",
   "execution_count": 43,
   "id": "48fed411-f609-4ea4-8767-cd580871fba1",
   "metadata": {},
   "outputs": [
    {
     "data": {
      "text/plain": [
       "array([265, 373, 311, 437, 200, 441, 191, 415,  81, 160])"
      ]
     },
     "execution_count": 43,
     "metadata": {},
     "output_type": "execute_result"
    }
   ],
   "source": [
    "top_indices"
   ]
  },
  {
   "cell_type": "code",
   "execution_count": 44,
   "id": "0b5b81fb-606d-404b-b976-9a2d7afd14b6",
   "metadata": {},
   "outputs": [],
   "source": [
    "final_scores_indices = np.argsort(final_scores)[::-1][:5]"
   ]
  },
  {
   "cell_type": "code",
   "execution_count": 45,
   "id": "71454a61-7d05-4d25-9507-9d5112f3f36a",
   "metadata": {},
   "outputs": [
    {
     "data": {
      "text/plain": [
       "array([0, 2, 1, 4, 6])"
      ]
     },
     "execution_count": 45,
     "metadata": {},
     "output_type": "execute_result"
    }
   ],
   "source": [
    "final_scores_indices"
   ]
  },
  {
   "cell_type": "code",
   "execution_count": 46,
   "id": "f8000231-4b58-4a9a-b399-50297b27472e",
   "metadata": {},
   "outputs": [
    {
     "data": {
      "text/plain": [
       "array([0, 2, 1, 4, 6])"
      ]
     },
     "execution_count": 46,
     "metadata": {},
     "output_type": "execute_result"
    }
   ],
   "source": [
    "final_scores_indices"
   ]
  },
  {
   "cell_type": "code",
   "execution_count": 47,
   "id": "bba277a0-bb88-4a8d-8b19-7dc06bdf95ab",
   "metadata": {},
   "outputs": [
    {
     "name": "stdout",
     "output_type": "stream",
     "text": [
      "265 - 0.9771933509787771\n",
      "311 - 0.7768188525911273\n",
      "373 - 0.7284251566083348\n",
      "200 - 0.47295090266899265\n",
      "191 - 0.34356840130686733\n"
     ]
    }
   ],
   "source": [
    "for i in final_scores_indices:\n",
    "    print(f\"{top_indices[i]} - {final_scores[i]}\")"
   ]
  },
  {
   "cell_type": "code",
   "execution_count": 48,
   "id": "a3198a83-3de8-4ff1-b35a-19b5401b32bb",
   "metadata": {},
   "outputs": [
    {
     "data": {
      "text/plain": [
       "'Technical Skills - JavaScript, ReactJS - HTML, CSS, Bootstrap - Figma, Adobe XD - Sketch, InVision Foreign Languages - English: C1 - Spanish: B2 Education - University Name: University of Bucharest - Program Duration: 4 years - Master Degree Name: University of Bucharest - Program Duration: 2 years Certifications - Microsoft Certified: Power Platform Fundamentals - Adobe Certified Associate (ACA): Visual Design Using Adobe XD - Certified Internet Web Professional (CIW) Site Development Associate Project Experience 1. Interactive Portfolio Website  Developed a personal portfolio website using HTML, CSS, and Bootstrap to showcase design and development projects. Implemented interactive features with JavaScript and ReactJS to enhance user engagement, such as dynamic content loading and smooth scrolling effects. Utilized Figma and Adobe XD for designing the layout and ensuring a responsive design across various devices. The project helped in improving my skills in front-end development and UI/UX design. 2. Social Media Dashboard Design  Designed a comprehensive social media dashboard using Sketch and InVision, focusing on user experience and accessibility. Conducted user testing sessions to gather feedback and iterated on the design to improve usability. Collaborated with a team of developers to integrate the design into a ReactJS application, ensuring consistency between the design mockups and the final product. This project enhanced my ability to translate user needs into practical design solutions. 3. E-commerce Landing Page Redesign  Led the redesign of an e-commerce landing page using ReactJS and Bootstrap to improve user engagement and conversion rates. Employed Figma and Adobe XD to create wireframes and high-fidelity prototypes, ensuring a modern and cohesive visual style. Worked closely with stakeholders to align the design with business goals and implemented A/B testing to validate design choices. This project allowed me to apply my skills in both design and front-end development effectively.'"
      ]
     },
     "execution_count": 48,
     "metadata": {},
     "output_type": "execute_result"
    }
   ],
   "source": [
    "cv_texts[265]"
   ]
  },
  {
   "cell_type": "code",
   "execution_count": 49,
   "id": "089b4baf-2d1f-492f-9355-4da38857cdde",
   "metadata": {},
   "outputs": [
    {
     "data": {
      "text/plain": [
       "\"Job Title: Senior UI/UX Designer Company Overview: InnovateTech Solutions is a leading technology company dedicated to creating cutting-edge digital products that enhance user experiences across various platforms. Our team is passionate about innovation, creativity, and delivering exceptional solutions that meet the evolving needs of our clients. We pride ourselves on fostering a collaborative and inclusive work environment where every team member's ideas are valued and contribute to our success. Key Responsibilities: - Lead the design and development of user interfaces and experiences for web and mobile applications, ensuring a seamless and intuitive user journey. - Collaborate with cross-functional teams, including product managers, developers, and other designers, to translate business requirements into innovative design solutions. - Conduct user research and usability testing to gather insights and validate design concepts, iterating based on feedback to enhance user satisfaction. - Create wireframes, prototypes, and high-fidelity designs using industry-standard design tools, ensuring consistency with brand guidelines and design systems. - Mentor and provide guidance to junior designers, fostering a culture of continuous learning and improvement within the design team. - Stay updated with the latest UI/UX trends, techniques, and technologies, and apply them to improve design processes and deliverables. - Present design concepts and solutions to stakeholders, articulating design rationale and incorporating feedback to refine designs. Required Qualifications: - Bachelor’s degree in Design, Human-Computer Interaction, or a related field. - Minimum of 5 years of experience in UI/UX design, with a strong portfolio showcasing diverse design projects. - Proficiency in design software such as Adobe Creative Suite, Sketch, Figma, or similar tools. - Strong understanding of user-centered design principles and best practices. - Excellent communication and presentation skills, with the ability to articulate design decisions effectively. Preferred Skills: - Experience with front-end development technologies such as HTML, CSS, and JavaScript. - Familiarity with agile methodologies and working in an agile environment. - Knowledge of accessibility standards and best practices in design. - Experience in designing for a variety of platforms, including web, mobile, and emerging technologies like AR/VR. \""
      ]
     },
     "execution_count": 49,
     "metadata": {},
     "output_type": "execute_result"
    }
   ],
   "source": [
    "job_texts[0]"
   ]
  },
  {
   "cell_type": "code",
   "execution_count": null,
   "id": "8103ebf4-5651-4f81-b4ed-6a9ca2fa28b0",
   "metadata": {},
   "outputs": [],
   "source": []
  },
  {
   "cell_type": "code",
   "execution_count": 50,
   "id": "0131dd1d-2cb7-4e5a-95a8-a8d95b4e8af6",
   "metadata": {},
   "outputs": [],
   "source": [
    "domain_examples = {\n",
    "    \"Banking\": \"Developed or tested software for financial systems, online banking platforms, payment gateways, or trading applications.\",\n",
    "    \"Healthcare\": \"Built or maintained applications for hospitals, electronic health records (EHR), medical imaging, or telemedicine platforms.\",\n",
    "    \"E-commerce\": \"Worked on online shopping platforms, shopping carts, recommendation engines, or payment integrations.\",\n",
    "    \"Education\": \"Built learning management systems (LMS), e-learning platforms, virtual classrooms, or student data portals.\",\n",
    "    \"Telecommunications\": \"Developed tools for mobile networks, VoIP systems, call centers, or network monitoring.\",\n",
    "    \"Retail\": \"Created point-of-sale (POS) software, inventory systems, or customer loyalty platforms for retail chains.\",\n",
    "    \"Insurance\": \"Built claims processing systems, policy management tools, or customer self-service insurance portals.\",\n",
    "    \"Manufacturing\": \"Worked on production line automation, MES systems, or supply chain tracking applications.\",\n",
    "    \"Government\": \"Contributed to e-government portals, public service automation, or digital identity platforms.\",\n",
    "    \"Transportation & Logistics\": \"Built fleet management, delivery tracking, or logistics optimization systems.\",\n",
    "    \"Energy & Utilities\": \"Developed SCADA systems, energy consumption dashboards, or smart grid monitoring tools.\",\n",
    "    \"Legal\": \"Built document management, case tracking, or legal research platforms for law firms or legal departments.\",\n",
    "    \"Real Estate\": \"Created property listing platforms, real estate CRMs, or mortgage application systems.\",\n",
    "    \"Media & Entertainment\": \"Developed streaming platforms, content management systems, or digital publishing tools.\",\n",
    "    \"Finance (non-banking)\": \"Built accounting software, budgeting tools, or investment tracking platforms.\"\n",
    "}"
   ]
  },
  {
   "cell_type": "code",
   "execution_count": 51,
   "id": "d0246caf-d5e4-40c1-80c2-0cfffa8bbaa7",
   "metadata": {},
   "outputs": [],
   "source": [
    "domains = [\n",
    "    \"Banking\",\n",
    "    \"Healthcare\",\n",
    "    \"E-commerce\",\n",
    "    \"Telecommunications\",\n",
    "    \"Education\",\n",
    "    \"Retail\",\n",
    "    \"Insurance\",\n",
    "    \"Legal\",\n",
    "    \"Manufacturing\",\n",
    "    \"Transportation & Logistics\",\n",
    "    \"Energy & Utilities\",\n",
    "    \"Real Estate\",\n",
    "    \"Government\",\n",
    "    \"Transportation\",\n",
    "    \"Marketing\",\n",
    "    \"Media & Entertainment\",\n",
    "    \"Construction\",\n",
    "    \"Finance (non-banking)\"\n",
    "]"
   ]
  },
  {
   "cell_type": "code",
   "execution_count": 52,
   "id": "8ae9445d-1c4b-47ce-b4cb-97a5f1423e88",
   "metadata": {},
   "outputs": [],
   "source": [
    "from sentence_transformers import SentenceTransformer, util"
   ]
  },
  {
   "cell_type": "code",
   "execution_count": 53,
   "id": "fa1b09d2-2f02-4fd4-ae3b-051742346e3f",
   "metadata": {},
   "outputs": [],
   "source": [
    "model = SentenceTransformer(\"all-MiniLM-L6-v2\")  # fast & accurate"
   ]
  },
  {
   "cell_type": "code",
   "execution_count": 54,
   "id": "38a0a118-57ea-48e8-ae27-37e3a4058e01",
   "metadata": {},
   "outputs": [],
   "source": [
    "job_description = \"\"\"We are seeking a full-stack engineer to build scalable software tools for healthcare diagnostics using cloud-based machine learning pipelines.\"\"\""
   ]
  },
  {
   "cell_type": "code",
   "execution_count": 55,
   "id": "977ca93d-334c-42b9-aaf4-c9621fb8eaec",
   "metadata": {},
   "outputs": [],
   "source": [
    "domain_data = { \n",
    "    \"Banking\": { \"desc\": \"Developed software for banking platforms, digital wallets, loan processing, or credit systems.\", \n",
    "                 \"keywords\": [\"bank\", \"loan\", \"credit\", \"atm\", \"fintech\", \"interest\", \"account\", \"ledger\"] }, \n",
    "    \"Healthcare\": { \"desc\": \"Built medical systems such as EHR, hospital platforms, clinical apps, or telemedicine services.\", \n",
    "                    \"keywords\": [\"healthcare\", \"ehr\", \"patient\", \"hospital\", \"clinic\", \"medical\", \"doctor\", \"nurse\"] }, \n",
    "    \"E-commerce\": { \"desc\": \"Created platforms or tools for online stores, shopping carts, payments, or product discovery.\", \n",
    "                    \"keywords\": [\"ecommerce\", \"checkout\", \"cart\", \"payment\", \"shopify\", \"woocommerce\", \"product\", \"sku\"] }, \n",
    "    \"Telecommunications\": { \"desc\": \"Engineered tools for telecom networks, call management, VoIP, or network monitoring.\", \n",
    "                            \"keywords\": [\"telecom\", \"sms\", \"voip\", \"5g\", \"network\", \"bandwidth\", \"subscriber\", \"lte\"] }, \n",
    "    \"Education\": { \"desc\": \"Built education platforms such as learning portals, student dashboards, or LMS systems.\", \n",
    "                   \"keywords\": [\"education\", \"student\", \"teacher\", \"learning\", \"course\", \"classroom\", \"lms\", \"school\"] }, \n",
    "    \"Retail\": { \"desc\": \"Developed software for retail businesses such as POS systems, inventory, or loyalty programs.\", \n",
    "                \"keywords\": [\"retail\", \"store\", \"inventory\", \"pos\", \"stock\", \"sku\", \"receipt\", \"shopping\"] }, \n",
    "    \"Insurance\": { \"desc\": \"Created applications for policy management, claims processing, or underwriting systems.\", \n",
    "                   \"keywords\": [\"insurance\", \"claim\", \"policy\", \"underwriting\", \"premium\", \"broker\", \"risk\"] }, \n",
    "    \"Legal\": { \"desc\": \"Built tools for legal case management, document processing, or e-discovery platforms.\", \n",
    "               \"keywords\": [\"legal\", \"law\", \"contract\", \"case\", \"compliance\", \"jurisdiction\", \"litigation\"] }, \n",
    "    \"Manufacturing\": { \"desc\": \"Developed automation systems, supply chain tools, or MES solutions for production plants.\", \n",
    "                       \"keywords\": [\"manufacturing\", \"plant\", \"automation\", \"mes\", \"machine\", \"factory\", \"assembly\"] }, \n",
    "    \"Transportation & Logistics\": { \"desc\": \"Built platforms for delivery tracking, fleet management, logistics optimization, or routing.\", \n",
    "                                    \"keywords\": [\"logistics\", \"delivery\", \"routing\", \"fleet\", \"dispatch\", \"transport\", \"warehouse\"] }, \n",
    "    \"Energy & Utilities\": { \"desc\": \"Developed monitoring systems, SCADA platforms, or analytics for power and water utilities.\", \n",
    "                            \"keywords\": [\"energy\", \"power\", \"electricity\", \"gas\", \"grid\", \"meter\", \"solar\", \"utility\", \"scada\"] }, \n",
    "    \"Real Estate\": { \"desc\": \"Engineered platforms for property listings, CRM tools for agents, or real estate analytics.\", \n",
    "                     \"keywords\": [\"real estate\", \"property\", \"mortgage\", \"agent\", \"listing\", \"tenant\", \"lease\"] }, \n",
    "    \"Government\": { \"desc\": \"Built public service portals, civic data dashboards, or digital identity platforms.\", \n",
    "                    \"keywords\": [\"government\", \"municipal\", \"civic\", \"permit\", \"id\", \"citizen\", \"registry\"] }, \n",
    "    \"Marketing\": { \"desc\": \"Built marketing analytics tools, email campaign platforms, or digital ad performance systems.\", \n",
    "                   \"keywords\": [\"marketing\", \"campaign\", \"seo\", \"email\", \"ads\", \"promotion\", \"branding\", \"targeting\"] }, \n",
    "    \"Media & Entertainment\": { \"desc\": \"Created digital content platforms, streaming services, or entertainment production tools.\", \n",
    "                               \"keywords\": [\"media\", \"streaming\", \"video\", \"music\", \"entertainment\", \"broadcast\", \"subscriber\"] }, \n",
    "    \"Construction\": { \"desc\": \"Engineered project management tools, BIM integrations, or field apps for construction teams.\", \n",
    "                      \"keywords\": [\"construction\", \"site\", \"blueprint\", \"project\", \"bim\", \"architect\", \"contractor\"] }, \n",
    "    \"Finance (non-banking)\": { \"desc\": \"Worked on accounting systems, budgeting tools, payroll, or financial planning platforms.\", \n",
    "                               \"keywords\": [\"finance\", \"accounting\", \"budget\", \"payroll\", \"invoice\", \"expense\", \"audit\", \"report\"] }\n",
    "}"
   ]
  },
  {
   "cell_type": "code",
   "execution_count": 56,
   "id": "e4595d40-23c7-44f5-9bc0-cc32d7d0c52e",
   "metadata": {},
   "outputs": [],
   "source": [
    "domain_names = list(domain_data.keys())\n",
    "domain_embeddings = model.encode([domain_data[d][\"desc\"] for d in domain_names], convert_to_tensor=True)"
   ]
  },
  {
   "cell_type": "code",
   "execution_count": 57,
   "id": "114eca24-129e-40ed-8451-8a467682fe63",
   "metadata": {},
   "outputs": [
    {
     "data": {
      "text/plain": [
       "torch.Size([17, 384])"
      ]
     },
     "execution_count": 57,
     "metadata": {},
     "output_type": "execute_result"
    }
   ],
   "source": [
    "domain_embeddings.shape"
   ]
  },
  {
   "cell_type": "code",
   "execution_count": 58,
   "id": "88592c6a-bbdc-44f0-9470-10952a9da225",
   "metadata": {},
   "outputs": [],
   "source": [
    "def match_domains(text, top_k=5, keyword_boost=0.1): \n",
    "    text_lower = text.lower() \n",
    "    text_embedding = model.encode(text, convert_to_tensor=True)\n",
    "    # Step 1: Semantic similarity\n",
    "    cos_scores = util.cos_sim(text_embedding, domain_embeddings)[0]\n",
    "    \n",
    "    # Step 2: Count keyword matches\n",
    "    scores = []\n",
    "    for i, domain in enumerate(domain_names):\n",
    "        key_matches = sum(1 for kw in domain_data[domain][\"keywords\"] if kw in text_lower)\n",
    "        score = float(cos_scores[i]) + key_matches * keyword_boost\n",
    "        if score > 0.6:\n",
    "            scores.append((domain, 1))\n",
    "        elif score >= 0.5:\n",
    "            scores.append((domain, score))\n",
    "    \n",
    "    # Step 3: Return top_k\n",
    "    scores.sort(key=lambda x: x[1], reverse=True)\n",
    "    return scores[:top_k]"
   ]
  },
  {
   "cell_type": "code",
   "execution_count": 59,
   "id": "1c7cbb0a-9ad8-41ad-9e42-5d002c3957f3",
   "metadata": {},
   "outputs": [],
   "source": [
    "text = \"\"\" Predictive Analytics Platform: Developed a predictive analytics platform using Python and TensorFlow, aimed at providing real-time insights for retail businesses. Used AWS SageMaker and Docker. \"\"\""
   ]
  },
  {
   "cell_type": "code",
   "execution_count": 60,
   "id": "845ba441-bc82-4228-b939-d2da11de50a7",
   "metadata": {},
   "outputs": [],
   "source": [
    "job_description = company_descriptions[0]"
   ]
  },
  {
   "cell_type": "code",
   "execution_count": 61,
   "id": "6177feaa-b3a7-466a-9ccf-9b232033aab9",
   "metadata": {},
   "outputs": [],
   "source": [
    "job_description = cv_project_experiences[1]"
   ]
  },
  {
   "cell_type": "code",
   "execution_count": 62,
   "id": "346b4fa4-89de-4371-9900-95818e42cdfb",
   "metadata": {},
   "outputs": [
    {
     "data": {
      "text/plain": [
       "' 1. Inventory Management System  Developed a robust inventory management system using Java and Spring Boot, designed to streamline warehouse operations and improve stock tracking efficiency. Implemented RESTful APIs to facilitate seamless integration with third-party logistics providers and utilized PostgreSQL for reliable data storage and retrieval. Deployed the application on AWS using Docker containers, ensuring scalability and high availability. Technologies and tools used: Java, Spring Boot, PostgreSQL, AWS, Docker. 2. Real-time Chat Application  Built a real-time chat application using ReactJS and TypeScript, providing users with a responsive and interactive messaging experience. Integrated WebSocket technology to enable instant message delivery and updates. Leveraged AWS services for backend support and data storage, ensuring secure and reliable communication. Technologies and tools used: ReactJS, TypeScript, WebSocket, AWS.'"
      ]
     },
     "execution_count": 62,
     "metadata": {},
     "output_type": "execute_result"
    }
   ],
   "source": [
    "job_description"
   ]
  },
  {
   "cell_type": "code",
   "execution_count": 63,
   "id": "8d600684-40cb-43e1-9880-f24afe30e27f",
   "metadata": {},
   "outputs": [],
   "source": [
    "results = match_domains(job_description)"
   ]
  },
  {
   "cell_type": "code",
   "execution_count": 64,
   "id": "bccfd366-f7e6-41c4-aed1-98b27c8d132b",
   "metadata": {},
   "outputs": [
    {
     "name": "stdout",
     "output_type": "stream",
     "text": [
      "Retail: 1.000\n",
      "Transportation & Logistics: 1.000\n"
     ]
    }
   ],
   "source": [
    "for domain, score in results:\n",
    "    print(f\"{domain}: {score:.3f}\")"
   ]
  },
  {
   "cell_type": "code",
   "execution_count": 65,
   "id": "437823d2-37db-4fb6-8117-fc1eec66b6ac",
   "metadata": {},
   "outputs": [
    {
     "ename": "AttributeError",
     "evalue": "'list' object has no attribute 'empty'",
     "output_type": "error",
     "traceback": [
      "\u001b[31m---------------------------------------------------------------------------\u001b[39m",
      "\u001b[31mAttributeError\u001b[39m                            Traceback (most recent call last)",
      "\u001b[36mCell\u001b[39m\u001b[36m \u001b[39m\u001b[32mIn[65]\u001b[39m\u001b[32m, line 1\u001b[39m\n\u001b[32m----> \u001b[39m\u001b[32m1\u001b[39m \u001b[43mresults\u001b[49m\u001b[43m.\u001b[49m\u001b[43mempty\u001b[49m()\n",
      "\u001b[31mAttributeError\u001b[39m: 'list' object has no attribute 'empty'"
     ]
    }
   ],
   "source": [
    "results.empty()"
   ]
  },
  {
   "cell_type": "code",
   "execution_count": null,
   "id": "608f4182-e786-477b-80e3-762b5f41da0c",
   "metadata": {},
   "outputs": [],
   "source": [
    "cv_domain_experience_scores = {}"
   ]
  },
  {
   "cell_type": "code",
   "execution_count": null,
   "id": "9064bd4e-ae02-4aa5-bb67-5e2144864f81",
   "metadata": {},
   "outputs": [],
   "source": [
    "for index in range(len(cv_files)):\n",
    "    results = match_domains(cv_project_experiences[index])\n",
    "    if len(results) != 0:\n",
    "        cv_domain_experience_scores[cv_files[index]] = {}\n",
    "        for domain, score in results:\n",
    "            cv_domain_experience_scores[cv_files[index]][domain] = score"
   ]
  },
  {
   "cell_type": "code",
   "execution_count": null,
   "id": "91612ec5-44f6-46de-8437-70e920cca4db",
   "metadata": {},
   "outputs": [],
   "source": [
    "cv_domain_experience_scores"
   ]
  },
  {
   "cell_type": "code",
   "execution_count": null,
   "id": "684d2e40-0240-46b9-82c8-11647bd30482",
   "metadata": {},
   "outputs": [],
   "source": [
    "import json"
   ]
  },
  {
   "cell_type": "code",
   "execution_count": null,
   "id": "24e68c0e-f74d-497f-98b4-9dd935cdd213",
   "metadata": {},
   "outputs": [],
   "source": [
    "with open(\"cv_domain_experience_scores.json\", \"w\") as f:\n",
    "    json.dump(cv_domain_experience_scores, f, indent=2)"
   ]
  },
  {
   "cell_type": "code",
   "execution_count": null,
   "id": "4948d368-8500-48e0-b2d6-c54c9dfdac17",
   "metadata": {},
   "outputs": [],
   "source": [
    "with open(\"cv_domain_experience_scores.json\", \"r\") as f:\n",
    "    cv_loaded_dict = json.load(f)"
   ]
  },
  {
   "cell_type": "code",
   "execution_count": null,
   "id": "02e91c1e-9be4-411d-90bb-f530b8c68ae9",
   "metadata": {},
   "outputs": [],
   "source": [
    "cv_loaded_dict"
   ]
  },
  {
   "cell_type": "code",
   "execution_count": null,
   "id": "1d691fdc-9a05-40f7-a1e4-f129ef7e8e0d",
   "metadata": {},
   "outputs": [],
   "source": [
    "job_domain_experience_scores = {}"
   ]
  },
  {
   "cell_type": "code",
   "execution_count": null,
   "id": "e2f05c89-0135-41e5-8066-9e619e08bb02",
   "metadata": {},
   "outputs": [],
   "source": [
    "for index in range(len(job_files)):\n",
    "    results = match_domains(company_descriptions[index])\n",
    "    if len(results) != 0:\n",
    "        job_domain_experience_scores[job_files[index]] = {}\n",
    "        for domain, score in results:\n",
    "            job_domain_experience_scores[job_files[index]][domain] = score"
   ]
  },
  {
   "cell_type": "code",
   "execution_count": null,
   "id": "754ca7e6-99d2-44ac-921d-80e8a6b3fd87",
   "metadata": {},
   "outputs": [],
   "source": [
    "job_domain_experience_scores['job_description_17_Backend Developer.docx']"
   ]
  },
  {
   "cell_type": "code",
   "execution_count": null,
   "id": "2853cdc9-b66e-4411-85b0-de730fd19460",
   "metadata": {},
   "outputs": [],
   "source": [
    "company_descriptions[17]"
   ]
  },
  {
   "cell_type": "code",
   "execution_count": null,
   "id": "854b9d60-1b3a-42b7-9485-838f698a3b6c",
   "metadata": {},
   "outputs": [],
   "source": []
  },
  {
   "cell_type": "code",
   "execution_count": null,
   "id": "f2038730-e983-44c2-989c-e2d0a6e7f3ba",
   "metadata": {},
   "outputs": [],
   "source": []
  },
  {
   "cell_type": "code",
   "execution_count": 79,
   "id": "71d1456f-6ab1-4a8b-81bf-a2c6784cbebd",
   "metadata": {},
   "outputs": [],
   "source": [
    "import re"
   ]
  },
  {
   "cell_type": "code",
   "execution_count": 80,
   "id": "e8f1b64e-845a-4ce1-9319-a1561369cabd",
   "metadata": {},
   "outputs": [],
   "source": [
    "custom_skills = [(\"Tensorflow\", 60), (\"AWS\", 20), (\"ML\", 20)]"
   ]
  },
  {
   "cell_type": "code",
   "execution_count": 81,
   "id": "6ec53b6b-8ca4-4292-a508-44f9f1ae4fbe",
   "metadata": {},
   "outputs": [],
   "source": [
    "def get_cv_keyword_matching_scores(custom_skills, cv_texts):\n",
    "    scores = [get_keyword_matching_scores(custom_skills, cv_text) for cv_text in cv_texts]\n",
    "    return np.array(scores)"
   ]
  },
  {
   "cell_type": "code",
   "execution_count": 104,
   "id": "0b01b39b-8009-4647-b1eb-6f59b022143d",
   "metadata": {},
   "outputs": [],
   "source": [
    "def get_keyword_matching_scores(custom_skills, cv_text):\n",
    "    # Compute weighted match\n",
    "    skill_matches = {}\n",
    "    for skill, weight in custom_skills:\n",
    "        count = len(re.findall(rf\"\\b{re.escape(skill.lower())}\\b\", cv_text.lower()))\n",
    "        skill_matches[skill] = (count > 0, weight)\n",
    "    # Score computation\n",
    "    total_score = sum(weight for matched, weight in skill_matches.values() if matched)\n",
    "    return total_score"
   ]
  },
  {
   "cell_type": "code",
   "execution_count": 105,
   "id": "c397d298-e8f3-4cdd-9a36-e03fe8cfc4c8",
   "metadata": {},
   "outputs": [
    {
     "data": {
      "text/plain": [
       "80"
      ]
     },
     "execution_count": 105,
     "metadata": {},
     "output_type": "execute_result"
    }
   ],
   "source": [
    "get_keyword_matching_scores(custom_skills, cv_texts[321])"
   ]
  },
  {
   "cell_type": "code",
   "execution_count": 101,
   "id": "5337bdee-32e8-4bfe-b3c9-a42b4b9987d4",
   "metadata": {},
   "outputs": [
    {
     "data": {
      "text/plain": [
       "['TensorFlow', 'TensorFlow', 'TensorFlow', 'TensorFlow']"
      ]
     },
     "execution_count": 101,
     "metadata": {},
     "output_type": "execute_result"
    }
   ],
   "source": [
    "re.findall(rf\"\\bTensorFlow\\b\", cv_texts[321])"
   ]
  },
  {
   "cell_type": "code",
   "execution_count": null,
   "id": "e67cb681-48d8-4fad-ac27-24ebe98ba278",
   "metadata": {},
   "outputs": [],
   "source": []
  },
  {
   "cell_type": "code",
   "execution_count": 77,
   "id": "9533d06a-731b-4db8-9bf4-0fc9c0978f77",
   "metadata": {},
   "outputs": [
    {
     "data": {
      "text/plain": [
       "\"Technical Skills Python, TensorFlow: 4 JavaScript, ReactJS: 3 AWS SageMaker, Docker: 2 SQL, PostgreSQL: 3 Figma, Adobe XD: 2 Foreign Languages - English: C1 - Spanish: B2 - French: A2 Education - University Name: University Politehnica of Bucharest - Program Duration: 4 years In this program, students acquire skills in Python, TensorFlow, JavaScript, ReactJS, AWS SageMaker, Docker, SQL, PostgreSQL, Figma, and Adobe XD. (Note: The mean of the technical skills is not high enough to warrant a master's degree suggestion.) Certifications - AWS Certified Cloud Practitioner - Microsoft Certified: Azure AI Fundamentals Project Experience 1. Machine Learning Model for Predictive Analysis  Developed a machine learning model using Python and TensorFlow to predict student performance based on historical data. The project involved data preprocessing, feature selection, and model training, achieving an accuracy of 85%. Deployed the model on AWS SageMaker, leveraging its capabilities to streamline the training process and manage model versions. This project was part of an academic research initiative aimed at enhancing educational outcomes. Technologies and tools used: Python, TensorFlow, AWS SageMaker, Jupyter Notebook. 2. Interactive Web Application for Data Visualization  Created an interactive web application using JavaScript and ReactJS to visualize complex datasets in an intuitive manner. The application allows users to manipulate data views and explore trends through dynamic charts and graphs. Integrated PostgreSQL for efficient data storage and retrieval, ensuring seamless data flow between the frontend and backend. This project was developed during an internship, focusing on improving data accessibility for non-technical stakeholders. Technologies and tools used: JavaScript, ReactJS, PostgreSQL, Chart.js, Node.js. 3. User-Centric Mobile App Design  Designed a mobile application interface using Figma and Adobe XD, focusing on enhancing user experience and accessibility. Conducted user research and iterative testing to refine design elements and ensure alignment with user needs. Collaborated closely with developers to ensure the design was implemented accurately and efficiently. This project was part of a capstone design course, emphasizing the importance of user-centered design principles. Technologies and tools used: Figma, Adobe XD, Sketch, InVision.\""
      ]
     },
     "execution_count": 77,
     "metadata": {},
     "output_type": "execute_result"
    }
   ],
   "source": [
    "cv_texts[321]"
   ]
  },
  {
   "cell_type": "code",
   "execution_count": null,
   "id": "6e3f7024-9389-4bfe-b41d-d3ea92bc940e",
   "metadata": {},
   "outputs": [],
   "source": []
  }
 ],
 "metadata": {
  "kernelspec": {
   "display_name": "Python 3 (ipykernel)",
   "language": "python",
   "name": "python3"
  },
  "language_info": {
   "codemirror_mode": {
    "name": "ipython",
    "version": 3
   },
   "file_extension": ".py",
   "mimetype": "text/x-python",
   "name": "python",
   "nbconvert_exporter": "python",
   "pygments_lexer": "ipython3",
   "version": "3.12.8"
  }
 },
 "nbformat": 4,
 "nbformat_minor": 5
}
